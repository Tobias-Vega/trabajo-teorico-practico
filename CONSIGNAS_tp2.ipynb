{
 "cells": [
  {
   "cell_type": "markdown",
   "metadata": {},
   "source": [
    "# Criterios de evaluación.\n",
    "\n",
    "* Se deben utilizar nombres de variables descriptivos y claros.\n",
    "* Cada ejercicio debe ser realizado utilizando **FUNCIONES**, NO solo codigo suelto.\n",
    "* Comentarios claros y concisos que expliquen el propósito de cada sección del código.\n",
    "* Entrega en tiempo y forma.\n",
    "* Todo el código desarrollado debe ser subido a un repositorio en GitHub.\n",
    "\n",
    "\n",
    "**Aclaración: Para resolver las actividades se debe incertar casillas de codigo entre cada actividad del cuaderno de Jupyter**"
   ]
  },
  {
   "cell_type": "markdown",
   "metadata": {},
   "source": [
    "### 1. **Bucles**\n",
    "\n",
    "   - **Actividad 1.1**: Escribir un programa que muestre el print de todo lo que el usuario introduzca hasta que el usuario escriba “salir” que terminará.\n",
    "   \n",
    "   - **Actividad 1.2**: Escribir un programa que pida al usuario un número entero y muestre por pantalla un triángulo rectángulo como el de más abajo con la cantidad de escalones indicados previamente (los numeros dentro del triangulo deben ser enteros aleatorios del 0 al 9).\n",
    "* 1\n",
    "* 3 1\n",
    "* 5 3 1\n",
    "* 7 5 3 1\n",
    "* 9 7 5 3 1"
   ]
  },
  {
   "cell_type": "code",
   "execution_count": null,
   "metadata": {},
   "outputs": [
    {
     "name": "stdout",
     "output_type": "stream",
     "text": [
      "algo\n",
      "hola\n"
     ]
    }
   ],
   "source": [
    "def mostrar_print():\n",
    "\n",
    "  while True: \n",
    "    valor_ingresado = input(\"Ingrese algo...\")\n",
    "\n",
    "    print(valor_ingresado)\n",
    "\n",
    "    continuar = input(\"Escriba salir si desea terminar el bucle\").lower()\n",
    "\n",
    "    if (continuar == \"salir\"):\n",
    "      break\n",
    "\n",
    "mostrar_print()"
   ]
  },
  {
   "cell_type": "code",
   "execution_count": null,
   "metadata": {},
   "outputs": [
    {
     "name": "stdout",
     "output_type": "stream",
     "text": [
      "6 \n",
      "3 5 \n",
      "2 7 2 \n"
     ]
    }
   ],
   "source": [
    "import random \n",
    "\n",
    "def triangulo():\n",
    "  entero = int(input(\"Ingrese un número entero\"))\n",
    "\n",
    "  for i in range(1, entero + 1):\n",
    "    for _ in range(1, i + 1): \n",
    "      print(random.randint(0,9), end=\" \")\n",
    "    print()\n",
    "\n",
    "triangulo()\n",
    "\n",
    "# Se muestran en forma de triangulo rectangulo numeros al azar y la cantidad de escalones elegidas por el usuario\n"
   ]
  },
  {
   "cell_type": "markdown",
   "metadata": {},
   "source": [
    "### 2. **Listas y Tuplas**\n",
    "\n",
    "   - **Actividad 1**: Escribir un programa que pida al usuario una frase y muestre por pantalla el número de veces que contiene cada vocal y la cantidad de espacios en blanco.\n",
    "\n",
    "   - **Actividad 2**: Escribir un programa que cree una matriz (con numeros aleatorios del 1 al 100) usando las dimensiones de X e Y que el usuario deberia ingresar por consola, luego crea una tupla con la matriz transpuesta y por ultimo las muestra ambas por consola .\n",
    "\n",
    "   - **Actividad 3**: Escribir un programa que almacene en una lista los siguientes precios, 50, 75, 46, 22, 80, 65, 8, y muestre por pantalla el menor y el mayor de los precios"
   ]
  },
  {
   "cell_type": "code",
   "execution_count": null,
   "metadata": {},
   "outputs": [
    {
     "name": "stdout",
     "output_type": "stream",
     "text": [
      "Frase: hola mundo\n",
      "Cantidad de veces que aparece la vocal a: 1\n",
      "Cantidad de veces que aparece la vocal e: 0\n",
      "Cantidad de veces que aparece la vocal i: 0\n",
      "Cantidad de veces que aparece la vocal o: 2\n",
      "Cantidad de veces que aparece la vocal u: 1\n",
      "Cantidad de espacios: 1\n"
     ]
    }
   ],
   "source": [
    "def mostrar_frase():\n",
    "\n",
    "  vocales = [\"a\", \"e\", \"i\", \"o\", \"u\"]\n",
    "  frase = input(\"Ingrese una frase\").lower()\n",
    "  espacio = \" \"\n",
    "\n",
    "  print(\"Frase:\", frase)\n",
    "\n",
    "  for vocal in vocales:\n",
    "    print(f\"Cantidad de veces que aparece la vocal {vocal}: {frase.count(vocal)}\")\n",
    "\n",
    "  print(f\"Cantidad de espacios: {frase.count(espacio)}\")\n",
    "\n",
    "mostrar_frase()\n",
    "\n",
    "# Cuenta las veces que aparece cada una de las vocales y los espacios en una determinada frase\n"
   ]
  },
  {
   "cell_type": "code",
   "execution_count": null,
   "metadata": {},
   "outputs": [
    {
     "name": "stdout",
     "output_type": "stream",
     "text": [
      "Matriz:  [[2, 20], [39, 57]]\n",
      "Traspuesta:  ((2, 39), (20, 57))\n"
     ]
    }
   ],
   "source": [
    "import random\n",
    "\n",
    "def crear_matriz():\n",
    "  dimension_x = int(input(\"Ingrese la dimensión x de la matriz\"))\n",
    "  dimension_y = int(input(\"Ingrese la dimensión y de la matriz\"))\n",
    "\n",
    "  matriz = [[random.randint(1, 100) for _ in range(dimension_y)] for _ in range(dimension_x)]\n",
    "\n",
    "  print(\"Matriz: \", matriz)\n",
    "\n",
    "  traspuesta = tuple(zip(*matriz))\n",
    "\n",
    "  print(\"Traspuesta: \", traspuesta)\n",
    "\n",
    "crear_matriz()\n",
    "\n",
    "# Se crea una matriz con dimensiones proporcionadas por el usuario y su traspuesta"
   ]
  },
  {
   "cell_type": "code",
   "execution_count": 8,
   "metadata": {},
   "outputs": [
    {
     "name": "stdout",
     "output_type": "stream",
     "text": [
      "El menor de los precios es: 8\n",
      "El mayor de los precios es: 80\n"
     ]
    }
   ],
   "source": [
    "\n",
    "def mostrar_precios():\n",
    "  precios = [50, 75, 46, 22, 80, 65, 8]\n",
    "\n",
    "  print(f\"El menor de los precios es: {min(precios)}\")\n",
    "  print(f\"El mayor de los precios es: {max(precios)}\")\n",
    "\n",
    "mostrar_precios()"
   ]
  },
  {
   "cell_type": "markdown",
   "metadata": {},
   "source": [
    "### 3. **Diccionarios**\n",
    "\n",
    "   - **Actividad 1**: Escribir un programa que cree un diccionario simulando una cesta de la compra. El programa debe preguntar el artículo y su precio y añadir el par al diccionario, hasta que el usuario decida terminar. Después se debe mostrar por pantalla la lista de la compra y el coste total, con el siguiente formato.\n",
    "\n",
    "   | arts  |precio |\n",
    "   |-------|-------|\n",
    "   |art 1  |1      |\n",
    "   |art 2  |2      |\n",
    "   |art 3  |3      |\n",
    "   |total  |6      |\n",
    "\n",
    "   - **Actividad 2**: Escribir un programa que cree un diccionario de traducción español-inglés. El usuario introducirá las palabras en español e inglés separadas por dos puntos, y cada par <palabra> : <traducción> separados por comas (es decir, solo se debe usar **UNA VEZ** la función input para la carga de palabras). El programa debe crear un diccionario con las palabras y sus traducciones. Después pedirá una frase en español y utilizará el diccionario para traducirla palabra a palabra. Si una palabra no está en el diccionario debe dejarla sin traducir.\n",
    "\n",
    "   - **Actividad 3**: Escribir un programa que reciba una cadena de caracteres y devuelva un diccionario con cada palabra que contiene y su frecuencia. Escribir otra función que reciba el diccionario generado con la función anterior y devuelva una tupla con la palabra más repetida y su frecuencia."
   ]
  },
  {
   "cell_type": "code",
   "execution_count": null,
   "metadata": {},
   "outputs": [
    {
     "name": "stdout",
     "output_type": "stream",
     "text": [
      "Arts Precio\n",
      "\n",
      "Pan 800.0\n",
      "Leche 600.0\n"
     ]
    }
   ],
   "source": [
    "def supermercado():\n",
    "  cesta_compra = {}\n",
    "\n",
    "  while(True):\n",
    "    articulo = input(\"Ingrese el nombre del artículo\")\n",
    "    precio = float(input(\"Ingrese el precio del artículo ingresado\"))\n",
    "\n",
    "    cesta_compra[articulo] = precio\n",
    "\n",
    "    continuar = input(\"Desea seguir agregando artículos? (s/n)\".lower())\n",
    "\n",
    "    if continuar != \"s\":\n",
    "      break\n",
    "\n",
    "  print(\"Arts\", \"Precio\\n\")\n",
    "  for clave, valor in cesta_compra.items():\n",
    "    print(f\"{clave} {valor}\")\n",
    "\n",
    "supermercado()\n",
    "\n",
    "# Se le permite al usuario ingresar articulos y precios las veces que desee\n",
    "# Muestra todos los articulos con sus respectivos precios\n"
   ]
  },
  {
   "cell_type": "code",
   "execution_count": null,
   "metadata": {},
   "outputs": [
    {
     "name": "stdout",
     "output_type": "stream",
     "text": [
      "['hola:hello', 'hoy:today', 'es:is']\n",
      "hello today is lunes\n"
     ]
    }
   ],
   "source": [
    "def diccionario_ing_esp():\n",
    "  palabras = input(\"Ingrese pares español:ingles cada uno separado por comas sin espacios\").lower()\n",
    "\n",
    "  diccionario = {}\n",
    "\n",
    "  pares = palabras.split(\",\")\n",
    "  print(pares)\n",
    "\n",
    "  for par in pares:\n",
    "    if \":\" in par:\n",
    "      palabra_es = par.split(\":\")[0]\n",
    "      palabra_ing = par.split(\":\")[1]\n",
    "      diccionario[palabra_es] = palabra_ing\n",
    "\n",
    "  frase = input(\"Ingrese una frase en español\").lower()\n",
    "\n",
    "  palabras = frase.split()\n",
    "\n",
    "  traduccion = []\n",
    "\n",
    "  for palabra in palabras:\n",
    "    traduccion.append(diccionario.get(palabra, palabra))\n",
    "\n",
    "  frase_traducida = \" \".join(traduccion)\n",
    "\n",
    "  print(frase_traducida)\n",
    "\n",
    "diccionario_ing_esp()\n",
    "\n",
    "# El usuario ingresa palabras en español e ingles la cantidad que neceite\n",
    "# El usuario ingresa una frase en español que se traducirá en ingles solo las palabras que el usuario tradujo, sino se muestra igual"
   ]
  },
  {
   "cell_type": "code",
   "execution_count": null,
   "metadata": {},
   "outputs": [
    {
     "name": "stdout",
     "output_type": "stream",
     "text": [
      "Frecuencias:  {'hola': 3, 'chau': 2, 'buenas': 1}\n",
      "Palabra más repetida:  ('hola', 3)\n"
     ]
    }
   ],
   "source": [
    "\n",
    "def crear_frecuencia(texto):\n",
    "  frecuencias = {}\n",
    "\n",
    "  palabras = texto.split(\" \")\n",
    "\n",
    "\n",
    "  for palabra in palabras:\n",
    "    if palabra in frecuencias:\n",
    "      frecuencias[palabra] += 1\n",
    "    else:\n",
    "      frecuencias[palabra] = 1\n",
    "  \n",
    "  return frecuencias\n",
    "\n",
    "def mostrar_frecuencia(diccionario):\n",
    "  return max(diccionario.items(), key=lambda item: item[1])\n",
    "\n",
    "frecuencias = crear_frecuencia(\"hola chau buenas hola chau hola\")\n",
    "\n",
    "print(\"Frecuencias: \", frecuencias)\n",
    "print(\"Palabra más repetida: \", mostrar_frecuencia(frecuencias))\n",
    "\n",
    "# Se obtiene el número de frecuencias en la funcion crear_frecuencia\n",
    "# En la funcion mostrar_frecuencia se muestra la palabra mas repetida\n"
   ]
  },
  {
   "cell_type": "markdown",
   "metadata": {},
   "source": [
    "### 4. **Funciones**\n",
    "\n",
    "- **Actividad 1**: Escribir una función que calcule el total de una factura tras aplicarle el IVA. La función debe recibir la cantidad sin IVA y el porcentaje de IVA a aplicar, y devolver el total de la factura. Si se invoca la función sin pasarle el porcentaje de IVA, deberá aplicar un 21%.\n",
    "\n",
    "- **Actividad 2**: Escribir una función que reciba un número entero positivo y devuelva su factorial.\n"
   ]
  },
  {
   "cell_type": "code",
   "execution_count": null,
   "metadata": {},
   "outputs": [
    {
     "name": "stdout",
     "output_type": "stream",
     "text": [
      "669.591\n",
      "686.6145\n"
     ]
    }
   ],
   "source": [
    "\n",
    "def calcular_factura(monto, IVA = 21):\n",
    "  calcular_iva = monto * IVA / 100\n",
    "\n",
    "  return monto + calcular_iva\n",
    "\n",
    "\n",
    "factura_pasando_iva = calcular_factura(567.45, 18)\n",
    "print(factura_pasando_iva)\n",
    "\n",
    "factura_sin_pasar_iva = calcular_factura(567.45)\n",
    "print(factura_sin_pasar_iva)\n",
    "\n",
    "# Se calcula una factura mas el iva con un porcentaje proporcionado, sino se proporciona por defecto será del 21%"
   ]
  },
  {
   "cell_type": "code",
   "execution_count": null,
   "metadata": {},
   "outputs": [
    {
     "name": "stdout",
     "output_type": "stream",
     "text": [
      "720\n"
     ]
    }
   ],
   "source": [
    "\n",
    "def obtener_factorial(num):\n",
    "  factorial = 1\n",
    "\n",
    "  for i in range(1, num + 1):\n",
    "    factorial *= i\n",
    "  \n",
    "  return factorial\n",
    "\n",
    "resultado = obtener_factorial(6)\n",
    "\n",
    "print(resultado)"
   ]
  }
 ],
 "metadata": {
  "kernelspec": {
   "display_name": "Python 3",
   "language": "python",
   "name": "python3"
  },
  "language_info": {
   "codemirror_mode": {
    "name": "ipython",
    "version": 3
   },
   "file_extension": ".py",
   "mimetype": "text/x-python",
   "name": "python",
   "nbconvert_exporter": "python",
   "pygments_lexer": "ipython3",
   "version": "3.11.9"
  }
 },
 "nbformat": 4,
 "nbformat_minor": 2
}
