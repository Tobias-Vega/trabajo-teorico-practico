{
 "cells": [
  {
   "cell_type": "markdown",
   "metadata": {},
   "source": [
    "# Criterios de evaluación.\n",
    "\n",
    "* Se deben utilizar nombres de variables descriptivos y claros.\n",
    "* Cada ejercicio debe ser realizado utilizando **FUNCIONES**, NO solo codigo suelto.\n",
    "* Comentarios claros y concisos que expliquen el propósito de cada sección del código.\n",
    "* Entrega en tiempo y forma.\n",
    "* Todo el código desarrollado debe ser subido a un repositorio en GitHub.\n",
    "\n",
    "\n",
    "**Aclaración: Para resolver las actividades se debe incertar casillas de codigo entre cada actividad del cuaderno de Jupyter**"
   ]
  },
  {
   "cell_type": "markdown",
   "metadata": {},
   "source": [
    "### 1. **Bucles**\n",
    "\n",
    "   - **Actividad 1.1**: Escribir un programa que muestre el print de todo lo que el usuario introduzca hasta que el usuario escriba “salir” que terminará.\n",
    "   \n",
    "   - **Actividad 1.2**: Escribir un programa que pida al usuario un número entero y muestre por pantalla un triángulo rectángulo como el de más abajo con la cantidad de escalones indicados previamente (los numeros dentro del triangulo deben ser enteros aleatorios del 0 al 9).\n",
    "* 1\n",
    "* 3 1\n",
    "* 5 3 1\n",
    "* 7 5 3 1\n",
    "* 9 7 5 3 1"
   ]
  },
  {
   "cell_type": "code",
   "execution_count": null,
   "metadata": {},
   "outputs": [
    {
     "name": "stdout",
     "output_type": "stream",
     "text": [
      "algo\n",
      "hola\n"
     ]
    }
   ],
   "source": [
    "def mostrar_print():\n",
    "\n",
    "  while True: \n",
    "    valor_ingresado = input(\"Ingrese algo...\")\n",
    "\n",
    "    print(valor_ingresado)\n",
    "\n",
    "    continuar = input(\"Escriba salir si desea terminar el bucle\").lower()\n",
    "\n",
    "    if (continuar == \"salir\"):\n",
    "      break\n",
    "\n",
    "mostrar_print()"
   ]
  },
  {
   "cell_type": "code",
   "execution_count": null,
   "metadata": {},
   "outputs": [],
   "source": [
    "import math \n",
    "\n",
    "def triangulo():\n",
    "  entero = int(input(\"Ingrese un número entero\"))\n",
    "\n",
    "  for i in range(1, entero + 1):\n",
    "    print(f\"\")\n",
    "\n",
    "\n",
    "\n"
   ]
  },
  {
   "cell_type": "markdown",
   "metadata": {},
   "source": [
    "### 2. **Listas y Tuplas**\n",
    "\n",
    "   - **Actividad 1**: Escribir un programa que pida al usuario una frase y muestre por pantalla el número de veces que contiene cada vocal y la cantidad de espacios en blanco.\n",
    "\n",
    "   - **Actividad 2**: Escribir un programa que cree una matriz (con numeros aleatorios del 1 al 100) usando las dimensiones de X e Y que el usuario deberia ingresar por consola, luego crea una tupla con la matriz transpuesta y por ultimo las muestra ambas por consola .\n",
    "\n",
    "   - **Actividad 3**: Escribir un programa que almacene en una lista los siguientes precios, 50, 75, 46, 22, 80, 65, 8, y muestre por pantalla el menor y el mayor de los precios"
   ]
  },
  {
   "cell_type": "code",
   "execution_count": null,
   "metadata": {},
   "outputs": [],
   "source": [
    "def mostrarFrase(): \n",
    "  frase = input(\"Ingrese una frase\")\n",
    "\n",
    "  "
   ]
  },
  {
   "cell_type": "code",
   "execution_count": 4,
   "metadata": {},
   "outputs": [],
   "source": [
    "\n",
    "# todo: Resolución\n",
    "\n",
    "# ! 2"
   ]
  },
  {
   "cell_type": "code",
   "execution_count": 5,
   "metadata": {},
   "outputs": [],
   "source": [
    "\n",
    "# todo: Resolución\n",
    "\n",
    "# ! 3"
   ]
  },
  {
   "cell_type": "markdown",
   "metadata": {},
   "source": [
    "### 3. **Diccionarios**\n",
    "\n",
    "   - **Actividad 1**: Escribir un programa que cree un diccionario simulando una cesta de la compra. El programa debe preguntar el artículo y su precio y añadir el par al diccionario, hasta que el usuario decida terminar. Después se debe mostrar por pantalla la lista de la compra y el coste total, con el siguiente formato.\n",
    "\n",
    "   | arts  |precio |\n",
    "   |-------|-------|\n",
    "   |art 1  |1      |\n",
    "   |art 2  |2      |\n",
    "   |art 3  |3      |\n",
    "   |total  |6      |\n",
    "\n",
    "   - **Actividad 2**: Escribir un programa que cree un diccionario de traducción español-inglés. El usuario introducirá las palabras en español e inglés separadas por dos puntos, y cada par <palabra> : <traducción> separados por comas (es decir, solo se debe usar **UNA VEZ** la función input para la carga de palabras). El programa debe crear un diccionario con las palabras y sus traducciones. Después pedirá una frase en español y utilizará el diccionario para traducirla palabra a palabra. Si una palabra no está en el diccionario debe dejarla sin traducir.\n",
    "\n",
    "   - **Actividad 3**: Escribir un programa que reciba una cadena de caracteres y devuelva un diccionario con cada palabra que contiene y su frecuencia. Escribir otra función que reciba el diccionario generado con la función anterior y devuelva una tupla con la palabra más repetida y su frecuencia."
   ]
  },
  {
   "cell_type": "code",
   "execution_count": 6,
   "metadata": {},
   "outputs": [],
   "source": [
    "\n",
    "# todo: Resolución\n",
    "\n",
    "# ! 1"
   ]
  },
  {
   "cell_type": "code",
   "execution_count": 7,
   "metadata": {},
   "outputs": [],
   "source": [
    "\n",
    "# todo: Resolución\n",
    "\n",
    "# ! 2"
   ]
  },
  {
   "cell_type": "code",
   "execution_count": 8,
   "metadata": {},
   "outputs": [],
   "source": [
    "\n",
    "# todo: Resolución\n",
    "\n",
    "# ! 3"
   ]
  },
  {
   "cell_type": "markdown",
   "metadata": {},
   "source": [
    "### 4. **Funciones**\n",
    "\n",
    "- **Actividad 1**: Escribir una función que calcule el total de una factura tras aplicarle el IVA. La función debe recibir la cantidad sin IVA y el porcentaje de IVA a aplicar, y devolver el total de la factura. Si se invoca la función sin pasarle el porcentaje de IVA, deberá aplicar un 21%.\n",
    "\n",
    "- **Actividad 2**: Escribir una función que reciba un número entero positivo y devuelva su factorial.\n"
   ]
  },
  {
   "cell_type": "code",
   "execution_count": 9,
   "metadata": {},
   "outputs": [],
   "source": [
    "\n",
    "# todo: Resolución\n",
    "\n",
    "# ! 1"
   ]
  },
  {
   "cell_type": "code",
   "execution_count": 10,
   "metadata": {},
   "outputs": [],
   "source": [
    "\n",
    "# todo: Resolución\n",
    "\n",
    "# ! 2"
   ]
  }
 ],
 "metadata": {
  "kernelspec": {
   "display_name": "Python 3",
   "language": "python",
   "name": "python3"
  },
  "language_info": {
   "codemirror_mode": {
    "name": "ipython",
    "version": 3
   },
   "file_extension": ".py",
   "mimetype": "text/x-python",
   "name": "python",
   "nbconvert_exporter": "python",
   "pygments_lexer": "ipython3",
   "version": "3.11.9"
  }
 },
 "nbformat": 4,
 "nbformat_minor": 2
}
